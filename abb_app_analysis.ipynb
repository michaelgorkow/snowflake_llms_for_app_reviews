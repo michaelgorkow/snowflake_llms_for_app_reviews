{
 "metadata": {
  "kernelspec": {
   "display_name": "Streamlit Notebook",
   "name": "streamlit"
  }
 },
 "nbformat_minor": 5,
 "nbformat": 4,
 "cells": [
  {
   "cell_type": "markdown",
   "id": "1045e4f5-659c-410d-bf9a-6065c2f3a30b",
   "metadata": {
    "name": "_0_HEAD",
    "collapsed": false
   },
   "source": "# Analyze Google Play Store App Reviews using Snowflake Cortex LLMs"
  },
  {
   "cell_type": "code",
   "id": "dea6ae3e-0678-489f-ba28-8ac03baa81ef",
   "metadata": {
    "language": "python",
    "name": "_1_IMPORTS",
    "collapsed": false
   },
   "outputs": [],
   "source": "# Python Packages\nimport streamlit as st\nimport pandas as pd\nfrom google_play_scraper import Sort, reviews_all\nimport warnings\nwarnings.filterwarnings(\"ignore\")\n\n# Snowpark Packages\nfrom snowflake.cortex import Complete\nfrom snowflake.snowpark.context import get_active_session\nfrom snowflake.snowpark.functions import col, lit\nimport snowflake.snowpark.functions as F\nimport snowflake.snowpark.types as T\n\n# Create Snowpark Session\nsession = get_active_session()",
   "execution_count": null
  },
  {
   "cell_type": "markdown",
   "id": "e7ae5076-a833-4e81-b50a-d22d3725c834",
   "metadata": {
    "name": "_2_RETRIVE_REVIEWS",
    "collapsed": false
   },
   "source": "## Retrieve Google Playstore Reviews"
  },
  {
   "cell_type": "code",
   "id": "d8661b06-44ce-4741-8596-48e1eec57c06",
   "metadata": {
    "language": "python",
    "name": "_2_RETRIEVE_REVIEWS1",
    "collapsed": false
   },
   "outputs": [],
   "source": "appids = {\n    'ABB-free@home® Next':'com.abb.freeathomeflex',\n    'ABB-free@home®':'com.abb.freeathomeflex',\n    'ABB-Welcome':'com.abb.welcome',\n    'Busch-ControlTouch':'de.buschjaeger.controltouch',\n    'Drivetune':'com.abb.spider',\n    'Smart Sensor Platform':'com.abb.ability.smartsensor'\n}\n\nfor key in appids:\n    print(f\"Loading rewviews for appid: {appids[key]}\")\n    reviews = reviews_all(\n        appids[key],\n        sleep_milliseconds=10, # defaults to 0\n        lang='en', # defaults to 'en'\n        country='us', # defaults to 'us'\n        sort=Sort.NEWEST, # defaults to Sort.MOST_RELEVANT\n    )\n    reviews_df = pd.DataFrame(reviews)\n    print(f\"Loaded {len(reviews_df)} rewviews for appid: {appids[key]}\")\n    reviews_df['APP_NAME'] = key\n    reviews_df['APP_ID'] = appids[key]\n    try:\n        df = pd.concat([df, reviews_df], ignore_index=True)\n    except:\n        df = reviews_df\n        \ndf.columns = [col.upper() for col in df.columns]",
   "execution_count": null
  },
  {
   "cell_type": "markdown",
   "id": "40b52d8f-6864-4143-9b9a-a84051fc7e63",
   "metadata": {
    "name": "_3_PERSIST_REVIEWS",
    "collapsed": false
   },
   "source": "## Persist reviews in Snowflake table"
  },
  {
   "cell_type": "code",
   "id": "123d3617-3bf6-4bfc-9b1e-a52ce62810a6",
   "metadata": {
    "language": "python",
    "name": "_3_PERSIST_REVIEWS1",
    "collapsed": false
   },
   "outputs": [],
   "source": "app_reviews = session.write_pandas(df, table_name='ABB_APP_REVIEWS', overwrite=True, auto_create_table=True)\n# filter reviews with low rating and enough content\napp_reviews = app_reviews.filter(col('score') < 2).filter(F.length('CONTENT') > 10)\n\nprint('Numer of reviews:', app_reviews.count())\napp_reviews",
   "execution_count": null
  },
  {
   "cell_type": "markdown",
   "id": "5d144e81-37d7-4a7f-b2ee-81ea60e5ef81",
   "metadata": {
    "name": "_4_ANAYLZE_REVIEWS",
    "collapsed": false
   },
   "source": "## Analyze Reviews with Cortex"
  },
  {
   "cell_type": "code",
   "id": "5a9e9e8e-c09b-4c7e-93b8-b7371f580696",
   "metadata": {
    "language": "python",
    "name": "_4_ANAYLZE_REVIEWS1",
    "collapsed": false
   },
   "outputs": [],
   "source": "llm_model = 'llama3.1-8b'\n\n# Create a prompt\nprompt = F.concat(lit(\"Derive the sentiment (1-5) from the review and list the main complaint of the review if there is any. \\\nThe review: \"), col('CONTENT'), lit(\"Return a JSON like this {sentiment:sentiment, main_complaint:main_complaint}.\\\nOnly return the JSON, no other text.\"))\n\n# Run LLM and parse outputs\napp_reviews = app_reviews.with_column('LLM_OUTPUT', F.call_builtin('try_parse_json',Complete(llm_model,prompt))).cache_result()\napp_reviews = app_reviews.filter(col('LLM_OUTPUT').is_not_null())\napp_reviews = app_reviews.with_column('LLM_SENTIMENT', col('LLM_OUTPUT')['sentiment'].cast('int'))\napp_reviews = app_reviews.with_column('LLM_TOP_COMPLAINT', col('LLM_OUTPUT')['main_complaint'].cast('string'))\napp_reviews = app_reviews[['APP_NAME','CONTENT','SCORE','LLM_SENTIMENT','LLM_TOP_COMPLAINT']]\napp_reviews.show()",
   "execution_count": null
  },
  {
   "cell_type": "code",
   "id": "420b42e1-96a3-491b-affb-3d62e869dabf",
   "metadata": {
    "language": "python",
    "name": "_4_ANAYLZE_REVIEWS2",
    "collapsed": false
   },
   "outputs": [],
   "source": "plot_df = app_reviews.group_by(['APP_NAME','LLM_SENTIMENT']).agg(F.count('APP_NAME').as_('COUNT'))\nst.subheader('ABB App Reviews by App')\nst.bar_chart(plot_df, x='LLM_SENTIMENT', y='COUNT', color='APP_NAME')",
   "execution_count": null
  },
  {
   "cell_type": "code",
   "id": "f8d0fb77-1c36-40b3-8238-2addd739de52",
   "metadata": {
    "language": "python",
    "name": "_4_ANAYLZE_REVIEWS3",
    "collapsed": false
   },
   "outputs": [],
   "source": "for key in appids:\n    st.subheader(f'Top reasons for bad reviews for App: {key}')\n    llm_data = app_reviews.filter(col('APP_NAME') == key)[['LLM_SENTIMENT','LLM_TOP_COMPLAINT']].to_pandas().to_markdown()\n    response = Complete(llm_model, f'What are the three main reasons for bad reviews? The review data: {llm_data}')\n    st.markdown(response)",
   "execution_count": null
  }
 ]
}