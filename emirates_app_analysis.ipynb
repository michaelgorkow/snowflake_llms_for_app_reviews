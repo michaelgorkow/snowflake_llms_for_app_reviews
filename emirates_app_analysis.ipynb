{
 "metadata": {
  "kernelspec": {
   "display_name": "Streamlit Notebook",
   "name": "streamlit"
  }
 },
 "nbformat_minor": 5,
 "nbformat": 4,
 "cells": [
  {
   "cell_type": "markdown",
   "id": "1045e4f5-659c-410d-bf9a-6065c2f3a30b",
   "metadata": {
    "name": "_0_HEAD",
    "collapsed": false
   },
   "source": "# Analyze Google Play Store App Reviews using Snowflake Cortex LLMs"
  },
  {
   "cell_type": "code",
   "id": "dea6ae3e-0678-489f-ba28-8ac03baa81ef",
   "metadata": {
    "language": "python",
    "name": "_1_IMPORTS",
    "collapsed": false
   },
   "outputs": [],
   "source": "# Python Packages\nimport streamlit as st\nimport pandas as pd\nfrom google_play_scraper import Sort, reviews_all\nimport warnings\nwarnings.filterwarnings(\"ignore\")\n\n# Snowpark Packages\nfrom snowflake.cortex import Complete\nfrom snowflake.snowpark.context import get_active_session\nfrom snowflake.snowpark.functions import col, lit\nimport snowflake.snowpark.functions as F\nimport snowflake.snowpark.types as T\n\n# Create Snowpark Session\nsession = get_active_session()",
   "execution_count": null
  },
  {
   "cell_type": "markdown",
   "id": "e7ae5076-a833-4e81-b50a-d22d3725c834",
   "metadata": {
    "name": "_2_RETRIVE_REVIEWS",
    "collapsed": false
   },
   "source": "## Retrieve Google Playstore Reviews"
  },
  {
   "cell_type": "code",
   "id": "d8661b06-44ce-4741-8596-48e1eec57c06",
   "metadata": {
    "language": "python",
    "name": "_2_RETRIEVE_REVIEWS1",
    "collapsed": false
   },
   "outputs": [],
   "source": "appid = 'com.emirates.ek.android'\n\nreviews = reviews_all(\n    appid,\n    sleep_milliseconds=0, # defaults to 0\n    lang='en', # defaults to 'en'\n    country='us', # defaults to 'us'\n    sort=Sort.NEWEST, # defaults to Sort.MOST_RELEVANT\n)\n\ndf = pd.DataFrame(reviews)\ndf.columns = [col.upper() for col in df.columns]",
   "execution_count": null
  },
  {
   "cell_type": "markdown",
   "id": "40b52d8f-6864-4143-9b9a-a84051fc7e63",
   "metadata": {
    "name": "_3_PERSIST_REVIEWS",
    "collapsed": false
   },
   "source": "## Persist reviews in Snowflake table"
  },
  {
   "cell_type": "code",
   "id": "123d3617-3bf6-4bfc-9b1e-a52ce62810a6",
   "metadata": {
    "language": "python",
    "name": "_3_PERSIST_REVIEWS1",
    "collapsed": false
   },
   "outputs": [],
   "source": "app_reviews = session.write_pandas(df, table_name='EMIRATES_APP_REVIEWS', overwrite=True, auto_create_table=True)\n# filter reviews with low rating and enough content\napp_reviews = app_reviews.filter(col('score') < 2).filter(F.length('CONTENT') > 200)\n\nprint('Numer of reviews:', app_reviews.count())\napp_reviews",
   "execution_count": null
  },
  {
   "cell_type": "markdown",
   "id": "5d144e81-37d7-4a7f-b2ee-81ea60e5ef81",
   "metadata": {
    "name": "_4_ANAYLZE_REVIEWS",
    "collapsed": false
   },
   "source": "## Analyze Reviews with Cortex"
  },
  {
   "cell_type": "code",
   "id": "5a9e9e8e-c09b-4c7e-93b8-b7371f580696",
   "metadata": {
    "language": "python",
    "name": "_4_ANAYLZE_REVIEWS1",
    "collapsed": false
   },
   "outputs": [],
   "source": "llm_model = 'llama3-8b'\n\n# Create a prompt\nprompt = F.concat(lit(\"Derive the sentiment (1-5) and assign the review to one or multiple categories. \\\nCategories: baggage_lost, customer_service, login, app_crash, refund.\\\nThe review: \"), col('CONTENT'), lit(\"Return a JSON like this {sentiment:sentiment, categories:[category1, category2, category3,]}.\\\nOnly return the JSON, no other text.\"))\n\n# Run LLM and parse outputs\napp_reviews = app_reviews.with_column('LLM_OUTPUT', F.call_builtin('try_parse_json',Complete(llm_model,prompt))).cache_result()\napp_reviews = app_reviews.filter(col('LLM_OUTPUT').is_not_null())\napp_reviews = app_reviews.with_column('LLM_SENTIMENT', col('LLM_OUTPUT')['sentiment'].cast('int'))\napp_reviews = app_reviews.with_column('LLM_CATEGORIES', col('LLM_OUTPUT')['categories'].cast('array'))\napp_reviews = app_reviews.join_table_function('flatten', col('LLM_CATEGORIES'))\napp_reviews = app_reviews.with_column('LLM_CATEGORY_INDEX', col('INDEX').cast('int'))\napp_reviews = app_reviews.with_column('LLM_CATEGORY', col('VALUE').cast('string'))\napp_reviews = app_reviews[['CONTENT','SCORE','LLM_SENTIMENT','LLM_CATEGORY_INDEX','LLM_CATEGORY']]\napp_reviews.show()",
   "execution_count": null
  },
  {
   "cell_type": "code",
   "id": "420b42e1-96a3-491b-affb-3d62e869dabf",
   "metadata": {
    "language": "python",
    "name": "_4_ANAYLZE_REVIEWS2",
    "collapsed": false
   },
   "outputs": [],
   "source": "plot_df = app_reviews.group_by(['LLM_SENTIMENT','LLM_CATEGORY']).agg(F.count('LLM_CATEGORY').as_('COUNT'))\nst.subheader('Emirates App Reviews by category')\nst.bar_chart(plot_df, x='LLM_SENTIMENT', y='COUNT', color='LLM_CATEGORY')",
   "execution_count": null
  },
  {
   "cell_type": "code",
   "id": "e0a990ce-c62d-4cdb-8b88-508d44ca15bf",
   "metadata": {
    "language": "python",
    "name": "cell2"
   },
   "outputs": [],
   "source": "llm_model = 'llama3-70b'\n\n# Create a prompt\nprompt = F.concat(lit(\"You are given an app review and a reply from the app developer. \\\nRate the reply on a scale 1-5.\\\nReturn a JSON like this {rating:rating, rating_description:rating_description, suggested_reply:suggested_reply}.\\\nOnly return the JSON, no other text. The review: \"), col('CONTENT'), lit(' The reply: '), col('REPLYCONTENT'))\n\ndeveloper_responses = session.table('EMIRATES_APP_REVIEWS')\ndeveloper_responses = developer_responses.filter(col('SCORE') <2).filter(col('REPLYCONTENT').is_not_null())\ndeveloper_responses = developer_responses.with_column('LLM_OUTPUT', F.call_builtin('try_parse_json',Complete(llm_model,prompt))).cache_result()\ndeveloper_responses = developer_responses.filter(col('LLM_OUTPUT').is_not_null())\ndeveloper_responses = developer_responses.with_column('REPLY_RATING', col('LLM_OUTPUT')['rating'].cast('int'))\ndeveloper_responses = developer_responses.with_column('RATING_DESCRIPTION', col('LLM_OUTPUT')['rating_description'].cast('string'))\ndeveloper_responses = developer_responses.with_column('SUGGESTED_REPLY', col('LLM_OUTPUT')['suggested_reply'].cast('string'))\ndeveloper_responses = developer_responses.order_by(col('REPLY_RATING'), ascending=True)\ndeveloper_responses = developer_responses[['CONTENT','REPLYCONTENT','REPLY_RATING','RATING_DESCRIPTION','SUGGESTED_REPLY']]\ndeveloper_responses",
   "execution_count": null
  },
  {
   "cell_type": "code",
   "id": "96aca051-087f-450f-89e0-30388d81b069",
   "metadata": {
    "language": "python",
    "name": "cell3"
   },
   "outputs": [],
   "source": "plot_df = developer_responses.group_by('REPLY_RATING').agg(F.count('REPLY_RATING').as_('COUNT'))\nst.subheader('Emirates App Developer Responses by LLM Rating')\nst.bar_chart(plot_df, x='REPLY_RATING', y='COUNT')",
   "execution_count": null
  }
 ]
}